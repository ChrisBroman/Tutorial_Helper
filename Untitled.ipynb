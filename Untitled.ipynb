{
 "cells": [
  {
   "cell_type": "code",
   "execution_count": 1,
   "id": "bd62b922",
   "metadata": {},
   "outputs": [],
   "source": [
    "url = \"https://www.youtube.com/watch?v=GPVsHOlRBBI\""
   ]
  },
  {
   "cell_type": "code",
   "execution_count": 103,
   "id": "ff69e682",
   "metadata": {},
   "outputs": [
    {
     "name": "stdout",
     "output_type": "stream",
     "text": [
      "Please enter a valid time: 23\n"
     ]
    }
   ],
   "source": [
    "time_input = input(\"Please enter a valid time: \")"
   ]
  },
  {
   "cell_type": "code",
   "execution_count": 93,
   "id": "1107b924",
   "metadata": {},
   "outputs": [],
   "source": [
    "true_times = [\"23\",\"23:23\", \"23:23:23\", \"0:0:34\", \"34:00\", \"59:59:59\"]"
   ]
  },
  {
   "cell_type": "code",
   "execution_count": 105,
   "id": "17473af5",
   "metadata": {},
   "outputs": [],
   "source": [
    "false_times = [\"23:23:23:23\", \"23::23\", \"\", \"2323:23:23\", \"23:2323:23\", \"23:23:2323\", \":::\", \"::\", \":\", \"23223\"]"
   ]
  },
  {
   "cell_type": "code",
   "execution_count": 96,
   "id": "581f174f",
   "metadata": {},
   "outputs": [],
   "source": [
    "def get_time(time):\n",
    "    if len(time) <= 2 and time.isnumeric():\n",
    "        if int(time) > 0 and int(time) < 60:\n",
    "            return time\n",
    "        else:\n",
    "            print(\"Invalid time\")\n",
    "    elif len(time) > 2:\n",
    "        if time.__contains__(\":\"):\n",
    "            array = time.split(\":\")\n",
    "            if len(array) == 1:\n",
    "                print(\"Invalid time\")\n",
    "            elif len(array) == 2:\n",
    "                if array[0].isnumeric() and int(array[0]) >= 0 and int(array[0]) < 60:\n",
    "                    if array[1].isnumeric() and int(array[1]) >= 0 and int(array[1]) < 60:\n",
    "                        return \"{}:{}\".format(array[0], array[1])\n",
    "                    else: \n",
    "                        print(\"Invalid time\")\n",
    "                else:\n",
    "                    print(\"Invalid time\")\n",
    "            elif len(array) == 3:\n",
    "                if array[0].isnumeric() and int(array[0]) >= 0 and int(array[0]) < 60:\n",
    "                    if array[1].isnumeric() and int(array[1]) >= 0 and int(array[1]) < 60:\n",
    "                        if array[2].isnumeric() and int(array[2]) >= 0 and int(array[2]) < 60:\n",
    "                            return \"{}:{}:{}\".format(array[0], array[1], array[2])\n",
    "                        else:\n",
    "                            print(\"Invalid time\")\n",
    "                    else:\n",
    "                        print(\"Invalid time\")\n",
    "                else:\n",
    "                    print(\"Invalid time\")\n",
    "            else:\n",
    "                print(\"Invalid time\")\n",
    "        else:\n",
    "            print(\"Invalid time\")\n",
    "    else:\n",
    "        print(\"Invalid time\")"
   ]
  },
  {
   "cell_type": "code",
   "execution_count": 99,
   "id": "57a1361e",
   "metadata": {},
   "outputs": [
    {
     "name": "stdout",
     "output_type": "stream",
     "text": [
      "23\n",
      "23:23\n",
      "23:23:23\n",
      "0:0:34\n",
      "34:00\n",
      "59:59:59\n"
     ]
    }
   ],
   "source": [
    "for time in true_times:\n",
    "    print(get_time(time))\n",
    "    "
   ]
  },
  {
   "cell_type": "code",
   "execution_count": 107,
   "id": "b6bbf4de",
   "metadata": {},
   "outputs": [
    {
     "name": "stdout",
     "output_type": "stream",
     "text": [
      "Invalid time\n",
      "Invalid time\n",
      "Invalid time\n",
      "Invalid time\n",
      "Invalid time\n",
      "Invalid time\n",
      "Invalid time\n",
      "Invalid time\n",
      "Invalid time\n",
      "Invalid time\n"
     ]
    }
   ],
   "source": [
    "for time in false_times:\n",
    "    get_time(time)"
   ]
  }
 ],
 "metadata": {
  "kernelspec": {
   "display_name": "Python 3 (ipykernel)",
   "language": "python",
   "name": "python3"
  },
  "language_info": {
   "codemirror_mode": {
    "name": "ipython",
    "version": 3
   },
   "file_extension": ".py",
   "mimetype": "text/x-python",
   "name": "python",
   "nbconvert_exporter": "python",
   "pygments_lexer": "ipython3",
   "version": "3.8.10"
  }
 },
 "nbformat": 4,
 "nbformat_minor": 5
}
