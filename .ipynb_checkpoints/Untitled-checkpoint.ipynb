{
 "cells": [
  {
   "cell_type": "code",
   "execution_count": 1,
   "id": "24371e3e",
   "metadata": {},
   "outputs": [],
   "source": [
    "url = \"https://www.youtube.com/watch?v=GPVsHOlRBBI\""
   ]
  },
  {
   "cell_type": "code",
   "execution_count": 88,
   "id": "439d0326",
   "metadata": {},
   "outputs": [
    {
     "name": "stdout",
     "output_type": "stream",
     "text": [
      "Please enter a valid time: 45\n"
     ]
    }
   ],
   "source": [
    "time_input = input(\"Please enter a valid time: \")"
   ]
  },
  {
   "cell_type": "code",
   "execution_count": 76,
   "id": "54935ee0",
   "metadata": {},
   "outputs": [],
   "source": [
    "true_times = [\"23\",\"23:23\", \"23:23:23:\", \"0:0:34\", \"34:00\", \"59:59:59\"]"
   ]
  },
  {
   "cell_type": "code",
   "execution_count": 83,
   "id": "a8eb2157",
   "metadata": {},
   "outputs": [],
   "source": [
    "def get_time(time):\n",
    "    if len(time) <= 2 and time.isnumeric():\n",
    "        if int(time) > 0 and int(time) < 60:\n",
    "            print(time)\n",
    "        else:\n",
    "            print(\"Invalid time\")\n",
    "    elif len(time) > 2:\n",
    "        if time.__contains__(\":\"):\n",
    "            array = time.split(\":\")\n",
    "            if len(array) == 1:\n",
    "                print(\"Invalid time\")\n",
    "            elif len(array) == 2:\n",
    "                if array[0].isnumeric() and int(array[0]) >= 0 and int(array[0]) < 60:\n",
    "                    if array[1].isnumeric() and int(array[1]) >= 0 and int(array[1]) < 60:\n",
    "                        print(\"{}:{}\".format(array[0], array[1]))\n",
    "                    else: \n",
    "                        print(\"Invalid time\")\n",
    "                else:\n",
    "                    print(\"Invalid time\")\n",
    "            elif len(array) == 3:\n",
    "                if array[0].isnumeric() and int(array[0]) >= 0 and int(array[0]) < 60:\n",
    "                    if array[1].isnumeric() and int(array[1]) >= 0 and int(array[1]) < 60:\n",
    "                        if array[2].isnumeric() and int(array[2]) >= 0 and int(array[2]) < 60:\n",
    "                            print(\"{}:{}:{}\".format(array[0], array[1], array[2]))\n",
    "                        else:\n",
    "                            print(\"Invalid time\")\n",
    "                    else:\n",
    "                        print(\"Invalid time\")\n",
    "                else:\n",
    "                    print(\"Invalid time\")\n",
    "            else:\n",
    "                print(\"Invalid time\")\n",
    "        else:\n",
    "            print(\"Invalid time\")\n",
    "    else:\n",
    "        print(\"Invalid time\")"
   ]
  },
  {
   "cell_type": "code",
   "execution_count": 90,
   "id": "e36fbc09",
   "metadata": {},
   "outputs": [
    {
     "ename": "TypeError",
     "evalue": "get_time() takes 0 positional arguments but 1 was given",
     "output_type": "error",
     "traceback": [
      "\u001b[0;31m---------------------------------------------------------------------------\u001b[0m",
      "\u001b[0;31mTypeError\u001b[0m                                 Traceback (most recent call last)",
      "Cell \u001b[0;32mIn [90], line 2\u001b[0m\n\u001b[1;32m      1\u001b[0m \u001b[38;5;28;01mfor\u001b[39;00m time \u001b[38;5;129;01min\u001b[39;00m true_times:\n\u001b[0;32m----> 2\u001b[0m     \u001b[38;5;28mprint\u001b[39m(get_time(time))\n",
      "\u001b[0;31mTypeError\u001b[0m: get_time() takes 0 positional arguments but 1 was given"
     ]
    }
   ],
   "source": [
    "for time in true_times:\n",
    "    print(get_time(time))\n",
    "    "
   ]
  }
 ],
 "metadata": {
  "kernelspec": {
   "display_name": "Python 3 (ipykernel)",
   "language": "python",
   "name": "python3"
  },
  "language_info": {
   "codemirror_mode": {
    "name": "ipython",
    "version": 3
   },
   "file_extension": ".py",
   "mimetype": "text/x-python",
   "name": "python",
   "nbconvert_exporter": "python",
   "pygments_lexer": "ipython3",
   "version": "3.8.10"
  }
 },
 "nbformat": 4,
 "nbformat_minor": 5
}
